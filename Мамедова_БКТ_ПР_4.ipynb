{
  "nbformat": 4,
  "nbformat_minor": 0,
  "metadata": {
    "colab": {
      "name": "Мамедова БКТ ПР 4.ipynb",
      "provenance": [],
      "collapsed_sections": [],
      "include_colab_link": true
    },
    "kernelspec": {
      "name": "python3",
      "display_name": "Python 3"
    }
  },
  "cells": [
    {
      "cell_type": "markdown",
      "metadata": {
        "id": "view-in-github",
        "colab_type": "text"
      },
      "source": [
        "<a href=\"https://colab.research.google.com/github/mamedovang/lab4/blob/main/%D0%9C%D0%B0%D0%BC%D0%B5%D0%B4%D0%BE%D0%B2%D0%B0_%D0%91%D0%9A%D0%A2_%D0%9F%D0%A0_4.ipynb\" target=\"_parent\"><img src=\"https://colab.research.google.com/assets/colab-badge.svg\" alt=\"Open In Colab\"/></a>"
      ]
    },
    {
      "cell_type": "markdown",
      "metadata": {
        "id": "k7lOkBi3J8oc"
      },
      "source": [
        "\n",
        "# Построение простейшего блокчейна **SnakeCoin**\n",
        "\n"
      ]
    },
    {
      "cell_type": "markdown",
      "metadata": {
        "id": "r4HFkPA-KSVT"
      },
      "source": [
        "**Блокчейн**\n",
        "цифровой реестр, в котором транзакции, совершенные в биткойнах или другой криптовалюте, регистрируются в хронологическом порядке и публично."
      ]
    },
    {
      "cell_type": "markdown",
      "metadata": {
        "id": "h3YQCFwdKcr_"
      },
      "source": [
        "более общем плане это общедоступная база данных, в которой новые данные хранятся в контейнере, называемом блоком, и добавляются в неизменяемую цепочку (отсюда и цепочку блоков) с данными, добавленными в прошлом . В случае биткойнов и других криптовалют эти данные представляют собой группы транзакций."
      ]
    },
    {
      "cell_type": "markdown",
      "metadata": {
        "id": "l8vmYPUZKkwv"
      },
      "source": [
        "Блокчейн **SnakeCoin**"
      ]
    },
    {
      "cell_type": "markdown",
      "metadata": {
        "id": "m9feQRj9K_bF"
      },
      "source": [
        "В блокчейне каждый блок хранится с отметкой времени и, необязательно, индексом. В **SnakeCoin** мы будем хранить и то, и другое. А чтобы обеспечить целостность всей цепочки блоков, каждый блок будет иметь **самоидентифицируемый хэш**. Как и в случае с биткойном, хэш каждого блока будет криптографическим хешем индекса, отметки времени, данных и хеша предыдущего блока. "
      ]
    },
    {
      "cell_type": "markdown",
      "metadata": {
        "id": "1Py5O0vrLf4S"
      },
      "source": [
        "структура блоков **SnakeCoin**:"
      ]
    },
    {
      "cell_type": "code",
      "metadata": {
        "id": "26Di3zJbJ3Kk"
      },
      "source": [
        "# Ваш код\n",
        "import hashlib as hasher\n",
        "\n",
        "class Block:\n",
        "  def __init__(self, index, timestamp, data, previous_hash):\n",
        "    self.index = index \n",
        "    self.timestamp = timestamp\n",
        "    self.data = data\n",
        "    self.previous_hash = previous_hash\n",
        "    self.hash = self.hash_block()\n",
        "  \n",
        "  def hash_block(self):\n",
        "    sha = hasher.sha256()\n",
        "    sha.update(str(self.index).encode('utf-8')+str(self.timestamp).encode('utf-8')+str(self.data).encode('utf-8')+str(self.previous_hash).encode('utf-8'))\n",
        "    return sha.hexdigest()"
      ],
      "execution_count": 1,
      "outputs": []
    },
    {
      "cell_type": "markdown",
      "metadata": {
        "id": "me6LsmONL3w9"
      },
      "source": [
        "первый блок или генезис-блок - это особый блок. Во многих случаях он добавляется вручную или имеет уникальную логику, позволяющую его добавить.\n",
        "Мы создадим функцию, которая просто возвращает генезис-блок, чтобы упростить задачу. Этот блок имеет индекс 0, и он имеет произвольное значение данных и произвольное значение в параметре «предыдущий хэш»."
      ]
    },
    {
      "cell_type": "code",
      "metadata": {
        "id": "3eFcdW0BL6JL"
      },
      "source": [
        "# Ваш код\n",
        "import datetime as date\n",
        "\n",
        "def creat_genesis_block():\n",
        "     return Block(0, date.datetime.now(), 'Genesis Block', 0)"
      ],
      "execution_count": 2,
      "outputs": []
    },
    {
      "cell_type": "markdown",
      "metadata": {
        "id": "PdPds2k7MO3u"
      },
      "source": [
        "нужна **функция, которая будет генерировать последующие блоки в цепочке блоков.** Эта функция примет предыдущий блок в цепочке в качестве параметра, создаст данные для блока, который будет сгенерирован, и вернет новый блок с соответствующими данными. Когда новые блоки хэшируют информацию из предыдущих блоков, целостность цепочки блоков увеличивается с каждым новым блоком. Если бы мы этого не сделали, посторонней стороне было бы легче «изменить прошлое» и заменить нашу цепочку совершенно новой собственной. Эта цепочка хэшей действует как криптографическое доказательство и помогает гарантировать, что после добавления блока в цепочку блоков его нельзя будет заменить или удалить."
      ]
    },
    {
      "cell_type": "code",
      "metadata": {
        "id": "9IETaXiIMP8O"
      },
      "source": [
        "# Ваш код\n",
        "def next_block(last_block):\n",
        "  this_index=last_block.index+1\n",
        "  this_timestamp = date.datetime.now()\n",
        "  this_data = \"Hello\" + str(this_index)\n",
        "  this_hash = last_block.hash\n",
        "  return Block(this_index, this_timestamp, this_data, this_hash)\n"
      ],
      "execution_count": 4,
      "outputs": []
    },
    {
      "cell_type": "markdown",
      "metadata": {
        "id": "kHgy4nRxMiZ3"
      },
      "source": [
        "Теперь мы можем создать нашу цепочку блоков! В нашем случае сам блокчейн представляет собой простой список Python. Первый элемент списка - это генезис-блок. И, конечно же, нам нужно добавить следующие блоки. Поскольку SnakeCoin - это самый маленький блокчейн, мы добавим только 20 новых блоков."
      ]
    },
    {
      "cell_type": "code",
      "metadata": {
        "id": "sFByu0GoPQNx",
        "colab": {
          "base_uri": "https://localhost:8080/"
        },
        "outputId": "870c1ac3-19d7-46f2-e9cc-bd489cea072c"
      },
      "source": [
        "# Ваш код\n",
        "Blockchain =[creat_genesis_block()]\n",
        "previous_block = Blockchain[0]\n",
        "\n",
        "num_of_block_to_add = 20\n",
        "\n",
        "for i in range(0, num_of_block_to_add):\n",
        "  block_to_add = next_block(previous_block)\n",
        "  Blockchain.append(block_to_add)\n",
        "  print('Block #{} has been added to blockchaine!'.format(i))\n",
        "  print('Hash {} \\n'.format(block_to_add.hash))"
      ],
      "execution_count": 5,
      "outputs": [
        {
          "output_type": "stream",
          "text": [
            "Block #0 has been added to blockchaine!\n",
            "Hash d531bc78b17c60a0fda34d4014848b90d69f318fad5ca45f43a69daea3baf9c3 \n",
            "\n",
            "Block #1 has been added to blockchaine!\n",
            "Hash a9020a4030efe8dd5bef0b1398ca101af80d874f919c773591f4466eda7083d0 \n",
            "\n",
            "Block #2 has been added to blockchaine!\n",
            "Hash fbe95c7f5728741e5e5027f5d90447471c9c17b11edd1d6f907814a3ff7573f1 \n",
            "\n",
            "Block #3 has been added to blockchaine!\n",
            "Hash a90802a14f574d772518865553833281fc1b6469ef2b707c82ef4de9293164bc \n",
            "\n",
            "Block #4 has been added to blockchaine!\n",
            "Hash 0fe24373fbce7ab989d620e9b55fe35325954d23141279f7e0b6ef98321487db \n",
            "\n",
            "Block #5 has been added to blockchaine!\n",
            "Hash 546c1370365d64b04a0e9d24f928096661ab379fe2118b9ae68a8110b497d175 \n",
            "\n",
            "Block #6 has been added to blockchaine!\n",
            "Hash c6a207564b00c628658e84ade98814c2e16e08b9d7e8a8b8e828f351fd6823b7 \n",
            "\n",
            "Block #7 has been added to blockchaine!\n",
            "Hash 7d5afbc12e99d4a7fcb58001ecf9ece3b84a9724ae47dc8d728bb5bbfc0939c3 \n",
            "\n",
            "Block #8 has been added to blockchaine!\n",
            "Hash a4d69e5d933810cb35f08b042f05a7f5739b044d9d9c389e2f2ec6f68f979051 \n",
            "\n",
            "Block #9 has been added to blockchaine!\n",
            "Hash 1f217ca5cf52a1b2a1299a1fde82625f6def2a6fefed24452e18969da8ce71db \n",
            "\n",
            "Block #10 has been added to blockchaine!\n",
            "Hash e848ae3712b4f6470a5b2445d19aadf567f62815aa05d11e4359648f49e5cc1f \n",
            "\n",
            "Block #11 has been added to blockchaine!\n",
            "Hash 50bbb1e3286e4334987c7a16f464d9915f0205e146648583894bc239b36d15b2 \n",
            "\n",
            "Block #12 has been added to blockchaine!\n",
            "Hash 7b8c467f2fe127155ec50696ec3bb5634332bfc9f59144a92bf935bcf51b6044 \n",
            "\n",
            "Block #13 has been added to blockchaine!\n",
            "Hash dc106a2b3242ac5791b7e4c5871865c7e197af635c5b6fc866064f515746de8b \n",
            "\n",
            "Block #14 has been added to blockchaine!\n",
            "Hash 125defdcb733dae790699844071e077454ad01f212876f21b16a90977d57d68f \n",
            "\n",
            "Block #15 has been added to blockchaine!\n",
            "Hash ed9a7ae37f69f4fe5d274c698e1b455d00c40ba6b151c7ad4038ee6079e9f985 \n",
            "\n",
            "Block #16 has been added to blockchaine!\n",
            "Hash 7f7efc4450407b28cafa06549218b776ea3d743fd9fb9476b4bcee1ca5837628 \n",
            "\n",
            "Block #17 has been added to blockchaine!\n",
            "Hash 51235eb2641a4896699d98517ac2c25eb95698fd7287cc4785b2a2acffb5125c \n",
            "\n",
            "Block #18 has been added to blockchaine!\n",
            "Hash 9c874e60a67ee1885d056e35983d6817721adaaec30ed0845dc5c23a469aaab2 \n",
            "\n",
            "Block #19 has been added to blockchaine!\n",
            "Hash 36f7a1a59068e0e092842eff639cda784e29cc0dda49ee1ed1798f884fddd50e \n",
            "\n"
          ],
          "name": "stdout"
        }
      ]
    }
  ]
}